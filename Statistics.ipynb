{
 "cells": [
  {
   "cell_type": "markdown",
   "metadata": {},
   "source": [
    "# Statistics"
   ]
  },
  {
   "cell_type": "markdown",
   "metadata": {},
   "source": [
    "## Mean, Median and Mode"
   ]
  },
  {
   "cell_type": "markdown",
   "metadata": {},
   "source": [
    "**Mean ()**\n",
    "\n",
    "The average of all the integers in a set of values. Here is the basic formula for calculating the mean of a set n of  values:\n",
    "![mean formula](https://mathworld.wolfram.com/images/equations/ArithmeticMean/NumberedEquation1.gif)\n",
    "\n",
    "\n",
    "**Median**\n",
    "\n",
    "The midpoint value of a data set for which an equal number of samples are less than and greater than the value. For an odd sample size, this is the middle element of the sorted sample; for an even sample size, this is the average of the 2 middle elements of the sorted sample.\n",
    "\n",
    "\n",
    "**Mode**\n",
    "\n",
    "The element(s) that occur most frequently in a data set. For the set {1,1,1,2,2,3,4,4}, the mode is 1 because the number 1 appears three times in the set and every other number in the set has a frequency <3. In contrast, the set {1,2,3,4} is multimodal because no number in the set appears more than 1 time, so every number in the set is a valid mode.\n",
    "\n",
    "\n",
    "**Precision and Scale**\n",
    "\n",
    "These are important terms to understand when formatting your output:\n",
    "\n",
    "**Precision** refers to the number of significant digits in a number. For example, the numbers 123.5 and 0.012345 both have a precision of 5.\n",
    "\n",
    "**Scale** refers to the number of significant digits to the right of the decimal point. For example, the number 123.45 has a scale of 2 decimal places. This term is sometimes misrepresented as precision in documentation."
   ]
  },
  {
   "cell_type": "markdown",
   "metadata": {},
   "source": [
    "[HackerRank's Mean, Median, Mode](https://www.hackerrank.com/challenges/s10-basic-statistics/tutorial)\n",
    "\n",
    "[HackerRank's Mean, Median, Mode: Exercise](https://www.hackerrank.com/challenges/s10-basic-statistics/problem)"
   ]
  },
  {
   "cell_type": "markdown",
   "metadata": {},
   "source": [
    "## Weighted Mean\n",
    "[HackerRank's Weighted Mean](https://www.hackerrank.com/challenges/s10-weighted-mean/tutorial)\n",
    "\n",
    "[HackerRank's Weighted Mean: Exercise](https://www.hackerrank.com/challenges/s10-weighted-mean/problem)"
   ]
  },
  {
   "cell_type": "code",
   "execution_count": null,
   "metadata": {},
   "outputs": [],
   "source": []
  }
 ],
 "metadata": {
  "kernelspec": {
   "display_name": "Python 3",
   "language": "python",
   "name": "python3"
  },
  "language_info": {
   "codemirror_mode": {
    "name": "ipython",
    "version": 3
   },
   "file_extension": ".py",
   "mimetype": "text/x-python",
   "name": "python",
   "nbconvert_exporter": "python",
   "pygments_lexer": "ipython3",
   "version": "3.7.6"
  }
 },
 "nbformat": 4,
 "nbformat_minor": 4
}
